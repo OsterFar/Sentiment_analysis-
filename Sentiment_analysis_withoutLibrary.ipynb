{
 "cells": [
  {
   "cell_type": "code",
   "execution_count": 20,
   "source": [
    "import nltk \r\n",
    "from nltk.corpus import stopwords "
   ],
   "outputs": [],
   "metadata": {}
  },
  {
   "cell_type": "code",
   "execution_count": 47,
   "source": [
    "class Sentiment_Analyzier :\r\n",
    "    def __init__(self , pos , neg , neut ):\r\n",
    "        self.positive =  pos \r\n",
    "        self.negative =  neg \r\n",
    "        self.neutral  =  neut\r\n",
    "    def print(self) :\r\n",
    "        print(self.positive)\r\n",
    "        print(self.negative)\r\n",
    "        print(self.neutral)\r\n",
    "        \r\n",
    "         "
   ],
   "outputs": [],
   "metadata": {}
  },
  {
   "cell_type": "code",
   "execution_count": 21,
   "source": [
    "def CaseFolding(text) :\r\n",
    "    newWords = []\r\n",
    "    for word in text  :\r\n",
    "        newWords.append(word.lower())\r\n",
    "    return newWords "
   ],
   "outputs": [],
   "metadata": {}
  },
  {
   "cell_type": "code",
   "execution_count": 57,
   "source": [
    "#Remove stopWords \r\n",
    "def StopWordRemoval(text) :\r\n",
    "    # stopWords = list(stopwords.words('english'))\r\n",
    "    # return [word for word in text if word not in stopWords ]\r\n",
    "    Newlist  = []\r\n",
    "    for word in text:\r\n",
    "        #positive words\r\n",
    "        with open('stop_words.txt') as file:\r\n",
    "            contents = file.read()\r\n",
    "            \r\n",
    "            if word in contents:\r\n",
    "                Newlist.append(word)\r\n",
    "    return [word for word in text if word not in Newlist ]\r\n",
    "\r\n"
   ],
   "outputs": [],
   "metadata": {}
  },
  {
   "cell_type": "code",
   "execution_count": 90,
   "source": [
    "def onegram(text , start , end) :\r\n",
    "    objectt  = Sentiment_Analyzier(0,0,0)\r\n",
    "    flag3 = False \r\n",
    "    for i in range(start , end):\r\n",
    "        if flag3 == False  : \r\n",
    "            print(text[i], \".......\")\r\n",
    "            flag1 = False\r\n",
    "            flag2 =  False \r\n",
    "            #positive words\r\n",
    "            with open('positive_word.txt') as file:\r\n",
    "                contents = file.read()\r\n",
    "                \r\n",
    "                if text[i] in contents:\r\n",
    "                    flag1  = True\r\n",
    "                else:\r\n",
    "                    print ('word not found in pos' )\r\n",
    "            \r\n",
    "            with open('negative_word.txt') as file:\r\n",
    "                contents = file.read()\r\n",
    "            # search_word = input(\"enter a word you want to search in file: \")\r\n",
    "                if text[i] in contents:\r\n",
    "                    flag2  = True\r\n",
    "                else:\r\n",
    "                    print ('word not found in neg')\r\n",
    "            if flag1 == True and flag2 == True :\r\n",
    "                #check next index if word is neutral \r\n",
    "                \r\n",
    "                if len(text) > i+1 :\r\n",
    "                    get_obj  = onegram(text , i+1 , i+2 )\r\n",
    "                    objectt.positive =  objectt.positive  +  ( 1 - get_obj.positive )\r\n",
    "                    print(\"i m here ...1  \", get_obj.positive)\r\n",
    "                    objectt.negative =  objectt.negative  +  ( 1 - get_obj.negative )\r\n",
    "                    print(\"i m here ... 2 \", get_obj.negative)\r\n",
    "                    flag3 = True \r\n",
    "                            \r\n",
    "            else :\r\n",
    "                if flag1 == True :\r\n",
    "                    objectt.positive =  objectt.positive  + 1 \r\n",
    "                if flag2 == True :\r\n",
    "                    objectt.negative =  objectt.negative  + 1 \r\n",
    "         \r\n",
    "        else :\r\n",
    "            flag3 = False\r\n",
    "            \r\n",
    "        print(\"completed..\")\r\n",
    "                   \r\n",
    "    return objectt\r\n",
    "        \r\n",
    "            \r\n",
    "        \r\n",
    "# sentiment_obj  = onegram(['not','a','good','choice'] , 0 )   \r\n",
    "# sentiment_obj.print()  "
   ],
   "outputs": [],
   "metadata": {}
  },
  {
   "cell_type": "code",
   "execution_count": 91,
   "source": [
    "def sentimentAnaysis(text) :\r\n",
    "   pass\r\n",
    "   # gram_1  = onegram(text) # return how many positive and negative are there in one gram \r\n",
    "   # gram_2  = twogram(text) # return how many positive and negative are there in two gram \r\n",
    "   "
   ],
   "outputs": [],
   "metadata": {}
  },
  {
   "cell_type": "code",
   "execution_count": 92,
   "source": [
    "def listToString(s): \r\n",
    "    \r\n",
    "    # initialize an empty string\r\n",
    "    str1 = \" \" \r\n",
    "    \r\n",
    "    # return string  \r\n",
    "    return (str1.join(s))"
   ],
   "outputs": [],
   "metadata": {}
  },
  {
   "cell_type": "code",
   "execution_count": 95,
   "source": [
    "text = input()\r\n",
    "newtext = list( nltk.word_tokenize(text) )\r\n",
    "\r\n",
    "#casefolding \r\n",
    "newtext = CaseFolding(newtext)\r\n",
    "\r\n",
    "print(\"CaseFolding :: \" , end = \" \")\r\n",
    "print(newtext)\r\n",
    "\r\n",
    "#remove stopWords \r\n",
    "newtext = StopWordRemoval(newtext)\r\n",
    "\r\n",
    "print(\"StopWords :: \" , end = \" \")\r\n",
    "print(newtext)\r\n",
    "\r\n",
    "\r\n",
    "#sentiment_analyzer \r\n",
    "sentiment_obj  = onegram(newtext , 0 , len(newtext) )   \r\n",
    "sentiment_obj.print() "
   ],
   "outputs": [
    {
     "output_type": "stream",
     "name": "stdout",
     "text": [
      "CaseFolding ::  ['i', 'do', 'not', 'like', 'this', 'movie']\n",
      "StopWords ::  ['not', 'like', 'this', 'movie']\n",
      "not\n",
      "like\n",
      "this\n",
      "word not found in pos\n",
      "word not found in neg\n",
      "completed..\n",
      "i m here ...1   0\n",
      "i m here ... 2  0\n",
      "completed..\n",
      "i m here ...1   1\n",
      "i m here ... 2  1\n",
      "completed..\n",
      "completed..\n",
      "this\n",
      "word not found in pos\n",
      "word not found in neg\n",
      "completed..\n",
      "movie\n",
      "word not found in pos\n",
      "word not found in neg\n",
      "completed..\n",
      "0\n",
      "0\n",
      "0\n"
     ]
    }
   ],
   "metadata": {}
  },
  {
   "cell_type": "code",
   "execution_count": null,
   "source": [],
   "outputs": [],
   "metadata": {}
  },
  {
   "cell_type": "code",
   "execution_count": null,
   "source": [],
   "outputs": [],
   "metadata": {}
  }
 ],
 "metadata": {
  "orig_nbformat": 4,
  "language_info": {
   "name": "python"
  }
 },
 "nbformat": 4,
 "nbformat_minor": 2
}