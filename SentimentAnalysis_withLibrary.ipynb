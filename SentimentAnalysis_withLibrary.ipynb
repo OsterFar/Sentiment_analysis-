{
 "cells": [
  {
   "cell_type": "code",
   "execution_count": 20,
   "id": "c569e52d",
   "metadata": {},
   "outputs": [],
   "source": [
    "import nltk \n",
    "from nltk.corpus import stopwords\n",
    "from nltk.sentiment import SentimentIntensityAnalyzer"
   ]
  },
  {
   "cell_type": "code",
   "execution_count": 16,
   "id": "6e18a3be",
   "metadata": {},
   "outputs": [],
   "source": [
    "def CaseFolding(text) :\n",
    "    newWords = []\n",
    "    for word in text  :\n",
    "        newWords.append(word.lower())\n",
    "    return newWords "
   ]
  },
  {
   "cell_type": "code",
   "execution_count": 17,
   "id": "208efe66",
   "metadata": {},
   "outputs": [],
   "source": [
    "#Remove stopWords \n",
    "def StopWordRemoval(text) :\n",
    "    stopWords = list(stopwords.words('english'))\n",
    "    return [word for word in text if word not in stopWords ]"
   ]
  },
  {
   "cell_type": "code",
   "execution_count": 21,
   "id": "eb373564",
   "metadata": {},
   "outputs": [],
   "source": [
    "def sentimentAnaysis(text) :\n",
    "    \n",
    "    sia = SentimentIntensityAnalyzer()\n",
    "    return sia.polarity_scores(text)"
   ]
  },
  {
   "cell_type": "code",
   "execution_count": 23,
   "id": "8b22f095",
   "metadata": {},
   "outputs": [],
   "source": [
    "def listToString(s): \n",
    "    \n",
    "    # initialize an empty string\n",
    "    str1 = \" \" \n",
    "    \n",
    "    # return string  \n",
    "    return (str1.join(s))"
   ]
  },
  {
   "cell_type": "code",
   "execution_count": 25,
   "id": "d4e5fad1",
   "metadata": {},
   "outputs": [
    {
     "name": "stdout",
     "output_type": "stream",
     "text": [
      "this is not good\n",
      "CaseFolding ::  ['this', 'is', 'not', 'good']\n",
      "['this', 'is', 'not', 'good']\n",
      "{'neg': 0.445, 'neu': 0.555, 'pos': 0.0, 'compound': -0.3412}\n"
     ]
    }
   ],
   "source": [
    "text = input()\n",
    "newtext = list( nltk.word_tokenize(text) )\n",
    "\n",
    "#casefolding \n",
    "newtext = CaseFolding(newtext)\n",
    "\n",
    "print(\"CaseFolding :: \" , end = \" \")\n",
    "print(newtext)\n",
    "\n",
    "# #remove stopWords \n",
    "# newtext = StopWordRemoval(newtext)\n",
    "\n",
    "# print(\"StopWords :: \" , end = \" \")\n",
    "print(newtext)\n",
    "stringText  = listToString(newtext )\n",
    "\n",
    "print(sentimentAnaysis(stringText))"
   ]
  },
  {
   "cell_type": "code",
   "execution_count": null,
   "id": "201b5d2e",
   "metadata": {},
   "outputs": [],
   "source": []
  }
 ],
 "metadata": {
  "kernelspec": {
   "display_name": "Python 3",
   "language": "python",
   "name": "python3"
  },
  "language_info": {
   "codemirror_mode": {
    "name": "ipython",
    "version": 3
   },
   "file_extension": ".py",
   "mimetype": "text/x-python",
   "name": "python",
   "nbconvert_exporter": "python",
   "pygments_lexer": "ipython3",
   "version": "3.8.8"
  }
 },
 "nbformat": 4,
 "nbformat_minor": 5
}
